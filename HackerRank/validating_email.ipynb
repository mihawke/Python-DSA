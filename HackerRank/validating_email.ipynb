{
 "cells": [
  {
   "attachments": {},
   "cell_type": "markdown",
   "metadata": {},
   "source": [
    "You are given an N integer followed by N email addresses. Your task is to print a list containing only valid email addresses in lexicographical order.\n",
    "\n",
    "Valid email addresses must follow these rules:\n",
    "\n",
    "It must have the username@websitename.extension format type.\n",
    "The username can only contain letters, digits, dashes and underscores: a-z , A-Z, 0-9 , -_\n",
    "The website name can only have letters and digits: a-z , A-Z , 0-9\n",
    "The extension can only contain letters: a-z , A-Z\n",
    "The maximum length of the extension is: 3\n"
   ]
  },
  {
   "cell_type": "code",
   "execution_count": null,
   "metadata": {},
   "outputs": [],
   "source": []
  }
 ],
 "metadata": {
  "kernelspec": {
   "display_name": "Python 3",
   "language": "python",
   "name": "python3"
  },
  "language_info": {
   "name": "python",
   "version": "3.10.6"
  },
  "orig_nbformat": 4
 },
 "nbformat": 4,
 "nbformat_minor": 2
}
