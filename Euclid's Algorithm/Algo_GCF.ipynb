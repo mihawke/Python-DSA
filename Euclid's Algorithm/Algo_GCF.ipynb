{
 "cells": [
  {
   "attachments": {},
   "cell_type": "markdown",
   "metadata": {},
   "source": [
    "<h2>Euclid's Algorithm</h2>\n",
    "<ul>\n",
    "<li>Suppose m > n and 'd' divides both m&n</li>\n",
    "<li>Then m = ad and n = bd</li>\n",
    "<li>Also m = q*n + r</li>\n",
    "<li>ad = q*(bd) + r</li>\n",
    "<li>r = cd</li>\n",
    "</ul>"
   ]
  },
  {
   "cell_type": "code",
   "execution_count": 1,
   "metadata": {},
   "outputs": [],
   "source": [
    "def final_gcf(m,n):\n",
    "    # Assume m >= n\n",
    "    if m < n:\n",
    "        (m,n) = (n,m)\n",
    "    # Run loop while the remainder is not 0\n",
    "    while (m%n) != 0:\n",
    "        # Put m = n and n = remainder\n",
    "        (m,n) = (n,m%n)\n",
    "    return n "
   ]
  },
  {
   "cell_type": "code",
   "execution_count": 2,
   "metadata": {},
   "outputs": [
    {
     "name": "stdout",
     "output_type": "stream",
     "text": [
      "11\n"
     ]
    }
   ],
   "source": [
    "print(final_gcf(88,99))"
   ]
  }
 ],
 "metadata": {
  "kernelspec": {
   "display_name": "Python 3",
   "language": "python",
   "name": "python3"
  },
  "language_info": {
   "codemirror_mode": {
    "name": "ipython",
    "version": 3
   },
   "file_extension": ".py",
   "mimetype": "text/x-python",
   "name": "python",
   "nbconvert_exporter": "python",
   "pygments_lexer": "ipython3",
   "version": "3.10.6"
  },
  "orig_nbformat": 4
 },
 "nbformat": 4,
 "nbformat_minor": 2
}
