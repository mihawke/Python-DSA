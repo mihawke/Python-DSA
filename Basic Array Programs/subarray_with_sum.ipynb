{
 "cells": [
  {
   "attachments": {},
   "cell_type": "markdown",
   "metadata": {},
   "source": [
    "Given an unsorted array A that contains only non-negative integers, find a continuous sub-array that adds to a given number S and return the left and right index of that subarray."
   ]
  },
  {
   "cell_type": "code",
   "execution_count": 2,
   "metadata": {},
   "outputs": [],
   "source": [
    "import array"
   ]
  },
  {
   "cell_type": "code",
   "execution_count": 55,
   "metadata": {},
   "outputs": [],
   "source": [
    "def subArraySum(arr, n ,s):\n",
    "    for i in range(0,n):\n",
    "        sum = 0\n",
    "        for j in range(i, n):\n",
    "            if sum == s:\n",
    "                return i, j\n",
    "            elif sum < s:\n",
    "                sum = sum + arr[j]\n",
    "                if sum == s:\n",
    "                    return i , j\n",
    "            else:\n",
    "                break\n",
    "    print(-1)"
   ]
  },
  {
   "cell_type": "code",
   "execution_count": 58,
   "metadata": {},
   "outputs": [
    {
     "data": {
      "text/plain": [
       "(8, 9)"
      ]
     },
     "execution_count": 58,
     "metadata": {},
     "output_type": "execute_result"
    }
   ],
   "source": [
    "A = array.array('i',[1,2,3,4,5,6,7,8,9,10])\n",
    "subArraySum(A,10,19)"
   ]
  }
 ],
 "metadata": {
  "kernelspec": {
   "display_name": "Python 3",
   "language": "python",
   "name": "python3"
  },
  "language_info": {
   "codemirror_mode": {
    "name": "ipython",
    "version": 3
   },
   "file_extension": ".py",
   "mimetype": "text/x-python",
   "name": "python",
   "nbconvert_exporter": "python",
   "pygments_lexer": "ipython3",
   "version": "3.10.6"
  },
  "orig_nbformat": 4
 },
 "nbformat": 4,
 "nbformat_minor": 2
}
