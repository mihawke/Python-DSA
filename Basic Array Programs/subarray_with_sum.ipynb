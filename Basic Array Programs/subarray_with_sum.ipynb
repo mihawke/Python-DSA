{
 "cells": [
  {
   "attachments": {},
   "cell_type": "markdown",
   "metadata": {},
   "source": [
    "Given an unsorted array A that contains only non-negative integers, find a continuous sub-array that adds to a given number S and return the left and right index of that subarray."
   ]
  },
  {
   "cell_type": "code",
   "execution_count": 2,
   "metadata": {},
   "outputs": [],
   "source": [
    "import array"
   ]
  },
  {
   "cell_type": "code",
   "execution_count": 76,
   "metadata": {},
   "outputs": [],
   "source": [
    "def subArraySum(arr, n ,s):\n",
    "    for i in range(0,n):\n",
    "        sum = 0\n",
    "        for j in range(i, n):\n",
    "            sum += arr[j]\n",
    "            if sum == s:\n",
    "                return i, j\n",
    "            elif sum > s:\n",
    "                break\n",
    "    return -1\n"
   ]
  },
  {
   "cell_type": "code",
   "execution_count": 75,
   "metadata": {},
   "outputs": [
    {
     "data": {
      "text/plain": [
       "(3, 4)"
      ]
     },
     "execution_count": 75,
     "metadata": {},
     "output_type": "execute_result"
    }
   ],
   "source": [
    "A = array.array('i',[1,2,3,5,7])\n",
    "subArraySum(A,5,12)"
   ]
  },
  {
   "cell_type": "code",
   "execution_count": 78,
   "metadata": {},
   "outputs": [],
   "source": [
    "def subarraySum(arr, n, sum):\n",
    "    # Initialize curr_sum as value of first element and starting point as 0\n",
    "    curr_sum = arr[0]\n",
    "    start = 0\n",
    "  \n",
    "    # Add elements one by one to curr_sum and if the curr_sum exceeds the sum, \n",
    "    # then remove starting element\n",
    "    for i in range(1, n+1):\n",
    "        # If curr_sum exceeds the sum, then remove the starting elements\n",
    "        while curr_sum > sum and start < i-1:\n",
    "            curr_sum = curr_sum - arr[start]\n",
    "            start += 1\n",
    "  \n",
    "        # If curr_sum becomes equal to sum\n",
    "        if curr_sum == sum:\n",
    "            print(start+1, i)\n",
    "            return \n",
    "  \n",
    "        # Add this element to curr_sum \n",
    "        if i < n:\n",
    "            curr_sum = curr_sum + arr[i]\n",
    "  \n",
    "    # If we reach here, then there is no subarray \n",
    "    print(\"-1\")\n"
   ]
  },
  {
   "cell_type": "code",
   "execution_count": 82,
   "metadata": {},
   "outputs": [
    {
     "data": {
      "text/plain": [
       "-1"
      ]
     },
     "execution_count": 82,
     "metadata": {},
     "output_type": "execute_result"
    }
   ],
   "source": [
    "B = array.array('i',[142 ,112 ,54, 69 ,148 ,45, 63 ,158 ,38 ,60 ,124 , 142 ,130 ,179, 117 ,36 ,191, 43 ,89 ,107 ,41 ,143 ,65 ,49 ,47 ,6, 91, 130 ,171 ,151 ,7, 102 ,194, 149 ,30 ,24 ,85 ,155 ,157 ,41 ,167 ,177 ,132 ,109 ,145, 40 ,27, 124 ,138,\n",
    "                       139, 119, 83, 130 ,142, 34, 116 ,40 ,59 ,105 ,131 ,178 ,\n",
    "                       107 ,74 ,187, 22 ,146, 125, 73 ,71 ,30 ,178 ,174 ,98 ,113])\n",
    "len(B)\n",
    "subArraySum(B,74,665)"
   ]
  }
 ],
 "metadata": {
  "kernelspec": {
   "display_name": "Python 3",
   "language": "python",
   "name": "python3"
  },
  "language_info": {
   "codemirror_mode": {
    "name": "ipython",
    "version": 3
   },
   "file_extension": ".py",
   "mimetype": "text/x-python",
   "name": "python",
   "nbconvert_exporter": "python",
   "pygments_lexer": "ipython3",
   "version": "3.10.6"
  },
  "orig_nbformat": 4
 },
 "nbformat": 4,
 "nbformat_minor": 2
}
