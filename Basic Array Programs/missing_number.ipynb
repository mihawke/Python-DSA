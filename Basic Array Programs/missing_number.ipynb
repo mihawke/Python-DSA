{
 "cells": [
  {
   "attachments": {},
   "cell_type": "markdown",
   "metadata": {},
   "source": [
    "Given an array of size N-1 such that it only contains distinct integers in the range of 1 to N. Find the missing element."
   ]
  },
  {
   "cell_type": "code",
   "execution_count": 12,
   "metadata": {},
   "outputs": [],
   "source": [
    "import array"
   ]
  },
  {
   "cell_type": "code",
   "execution_count": 55,
   "metadata": {},
   "outputs": [],
   "source": [
    "def MissingNumber(arr,n):\n",
    "    # arr contains integers from 1 to n\n",
    "    # arr has length of n-1\n",
    "    # find missing number\n",
    "    for i in range(1,n+1):\n",
    "        found = 0\n",
    "        for j in range(0,n-1):\n",
    "            if arr[j]==i:\n",
    "                found += 1\n",
    "        if found ==0:\n",
    "            return i\n",
    "\n",
    "            "
   ]
  },
  {
   "cell_type": "code",
   "execution_count": 58,
   "metadata": {},
   "outputs": [
    {
     "data": {
      "text/plain": [
       "4"
      ]
     },
     "execution_count": 58,
     "metadata": {},
     "output_type": "execute_result"
    }
   ],
   "source": [
    "A = array.array('i',[1,2,3,5])\n",
    "MissingNumber(A,5)"
   ]
  },
  {
   "attachments": {},
   "cell_type": "markdown",
   "metadata": {},
   "source": [
    "Another method by checking difference between expected sum and actual sum"
   ]
  },
  {
   "cell_type": "code",
   "execution_count": 59,
   "metadata": {},
   "outputs": [],
   "source": [
    "def MissingNumber2(arr,n):\n",
    "    actual_sum=0\n",
    "    expected_sum=0\n",
    "    for i in range(n-1):\n",
    "        actual_sum += arr[i]\n",
    "    for j in range(1,n+1):\n",
    "        expected_sum += j\n",
    "    return expected_sum - actual_sum "
   ]
  },
  {
   "cell_type": "code",
   "execution_count": 60,
   "metadata": {},
   "outputs": [
    {
     "data": {
      "text/plain": [
       "4"
      ]
     },
     "execution_count": 60,
     "metadata": {},
     "output_type": "execute_result"
    }
   ],
   "source": [
    "MissingNumber2(A,5)"
   ]
  }
 ],
 "metadata": {
  "kernelspec": {
   "display_name": "Python 3",
   "language": "python",
   "name": "python3"
  },
  "language_info": {
   "codemirror_mode": {
    "name": "ipython",
    "version": 3
   },
   "file_extension": ".py",
   "mimetype": "text/x-python",
   "name": "python",
   "nbconvert_exporter": "python",
   "pygments_lexer": "ipython3",
   "version": "3.10.6"
  },
  "orig_nbformat": 4
 },
 "nbformat": 4,
 "nbformat_minor": 2
}
