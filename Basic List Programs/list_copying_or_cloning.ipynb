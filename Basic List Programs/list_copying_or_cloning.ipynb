{
 "cells": [
  {
   "attachments": {},
   "cell_type": "markdown",
   "metadata": {},
   "source": [
    "Different Ways to copy list:\n",
    "<ul>\n",
    "<li>Using the slicing technique </li>\n",
    "<li>Using the extend() method </li>\n",
    "<li>List copy using =(assignment operator)</li>\n",
    "<li>Using the method of Shallow Copy </li>\n",
    "<li>Using list comprehension </li>\n",
    "<li>Using the append() method </li>\n",
    "<li>Using the copy() method </li>\n",
    "<li>Using the method of Deep Copy</li>\n",
    "<li>Using the map method </li>\n",
    "<li>Using slice() function</li>\n",
    "</ul>"
   ]
  },
  {
   "cell_type": "code",
   "execution_count": 13,
   "metadata": {},
   "outputs": [
    {
     "name": "stdout",
     "output_type": "stream",
     "text": [
      "[4, 8, 2, 10, 15, 18] [4, 8, 2, 10, 15, 18] [4, 8, 2, 10, 15, 18] [4, 8, 2, 10, 15, 18]\n"
     ]
    }
   ],
   "source": [
    "list1 = [4, 8, 2, 10, 15, 18]\n",
    "list2 = list1\n",
    "list3 = list1[slice(len(list1))]\n",
    "list4 = list1[:]\n",
    "print(list1 , list2 , list3 , list4)"
   ]
  }
 ],
 "metadata": {
  "kernelspec": {
   "display_name": "Python 3",
   "language": "python",
   "name": "python3"
  },
  "language_info": {
   "codemirror_mode": {
    "name": "ipython",
    "version": 3
   },
   "file_extension": ".py",
   "mimetype": "text/x-python",
   "name": "python",
   "nbconvert_exporter": "python",
   "pygments_lexer": "ipython3",
   "version": "3.10.6"
  },
  "orig_nbformat": 4
 },
 "nbformat": 4,
 "nbformat_minor": 2
}
