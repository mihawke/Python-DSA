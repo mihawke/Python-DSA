{
 "cells": [
  {
   "attachments": {},
   "cell_type": "markdown",
   "metadata": {},
   "source": [
    "<h4>Given a list in Python and a number x, count the number of occurrences of x in the given list.</h4>"
   ]
  },
  {
   "cell_type": "code",
   "execution_count": 1,
   "metadata": {},
   "outputs": [],
   "source": [
    "def countOccurence(seq,m):\n",
    "    count = 0\n",
    "    for i in seq:\n",
    "        if i == m:\n",
    "            count += 1\n",
    "    return count"
   ]
  },
  {
   "cell_type": "code",
   "execution_count": 4,
   "metadata": {},
   "outputs": [
    {
     "name": "stdout",
     "output_type": "stream",
     "text": [
      "number 10 occurres in list : 6 times.\n"
     ]
    }
   ],
   "source": [
    "list1 = [15, 6, 7, 10, 12, 20, 10, 28, 10, 10, 12, 20, 10, 28, 10]\n",
    "m = 10\n",
    "print(\"number 10 occurres in list :\", countOccurence(list1, 10), \"times.\")\n"
   ]
  },
  {
   "cell_type": "code",
   "execution_count": 6,
   "metadata": {},
   "outputs": [
    {
     "data": {
      "text/plain": [
       "6"
      ]
     },
     "execution_count": 6,
     "metadata": {},
     "output_type": "execute_result"
    }
   ],
   "source": [
    "# Using count()\n",
    "list2 = [15, 6, 7, 10, 12, 20, 10, 28, 10, 10, 12, 20, 10, 28, 10]\n",
    "x = 10\n",
    "list2.count(x)"
   ]
  }
 ],
 "metadata": {
  "kernelspec": {
   "display_name": "Python 3",
   "language": "python",
   "name": "python3"
  },
  "language_info": {
   "codemirror_mode": {
    "name": "ipython",
    "version": 3
   },
   "file_extension": ".py",
   "mimetype": "text/x-python",
   "name": "python",
   "nbconvert_exporter": "python",
   "pygments_lexer": "ipython3",
   "version": "3.10.6"
  },
  "orig_nbformat": 4
 },
 "nbformat": 4,
 "nbformat_minor": 2
}
