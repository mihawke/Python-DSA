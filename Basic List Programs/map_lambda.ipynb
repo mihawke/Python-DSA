{
 "cells": [
  {
   "cell_type": "code",
   "execution_count": null,
   "metadata": {},
   "outputs": [],
   "source": [
    "cube = lambda x: x**3 # Lambda function \n",
    "\n",
    "def fibonacci(n):\n",
    "    # return a list of fibonacci numbers\n",
    "    A=[]\n",
    "    if  n == 0:\n",
    "        return A\n",
    "    elif n == 1:\n",
    "        A.append(0)\n",
    "    elif n == 2:\n",
    "        A.append(0)\n",
    "        A.append(1)\n",
    "    elif n>2:\n",
    "        A.append(0)\n",
    "        A.append(1)\n",
    "        for i in range(2,n):\n",
    "            A.insert(i,A[i-1]+A[i-2])\n",
    "    return A"
   ]
  }
 ],
 "metadata": {
  "language_info": {
   "name": "python"
  },
  "orig_nbformat": 4
 },
 "nbformat": 4,
 "nbformat_minor": 2
}
